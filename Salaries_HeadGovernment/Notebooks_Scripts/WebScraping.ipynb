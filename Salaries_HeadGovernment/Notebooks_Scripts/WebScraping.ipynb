{
 "cells": [
  {
   "cell_type": "code",
   "execution_count": 4,
   "id": "specific-laundry",
   "metadata": {},
   "outputs": [],
   "source": [
    "import pandas as pd\n",
    "import numpy as np\n",
    "import re\n",
    "import requests \n",
    "from bs4 import BeautifulSoup"
   ]
  },
  {
   "cell_type": "code",
   "execution_count": 5,
   "id": "amended-custody",
   "metadata": {},
   "outputs": [
    {
     "data": {
      "text/plain": [
       "200"
      ]
     },
     "execution_count": 5,
     "metadata": {},
     "output_type": "execute_result"
    }
   ],
   "source": [
    "url = \"https://en.wikipedia.org/wiki/List_of_salaries_of_heads_of_state_and_government#cite_note-106\"\n",
    "page = requests.get(url)\n",
    "page.status_code"
   ]
  },
  {
   "cell_type": "code",
   "execution_count": 6,
   "id": "moved-belle",
   "metadata": {},
   "outputs": [],
   "source": [
    "soup = BeautifulSoup(page.content, \"html.parser\")"
   ]
  },
  {
   "cell_type": "code",
   "execution_count": 7,
   "id": "suited-reliance",
   "metadata": {},
   "outputs": [],
   "source": [
    "table_presindent = soup.findAll(\"table\", class_=\"wikitable\")"
   ]
  },
  {
   "cell_type": "code",
   "execution_count": 8,
   "id": "fantastic-bracket",
   "metadata": {},
   "outputs": [
    {
     "data": {
      "text/plain": [
       "3"
      ]
     },
     "execution_count": 8,
     "metadata": {},
     "output_type": "execute_result"
    }
   ],
   "source": [
    "len(table_presindent)"
   ]
  },
  {
   "cell_type": "code",
   "execution_count": 9,
   "id": "young-tracy",
   "metadata": {},
   "outputs": [],
   "source": [
    "table = table_presindent[0]"
   ]
  },
  {
   "cell_type": "code",
   "execution_count": 10,
   "id": "american-fetish",
   "metadata": {},
   "outputs": [],
   "source": [
    "body = table.find_all(\"tr\")"
   ]
  },
  {
   "cell_type": "code",
   "execution_count": 11,
   "id": "convenient-orleans",
   "metadata": {},
   "outputs": [],
   "source": [
    "head = body[0]"
   ]
  },
  {
   "cell_type": "code",
   "execution_count": 12,
   "id": "figured-astronomy",
   "metadata": {},
   "outputs": [],
   "source": [
    "body_rows = body[1:]"
   ]
  },
  {
   "cell_type": "code",
   "execution_count": 13,
   "id": "prescription-pennsylvania",
   "metadata": {},
   "outputs": [
    {
     "name": "stdout",
     "output_type": "stream",
     "text": [
      "['State', 'Head of state (USD)', 'Head of government (USD)', 'Head of state salary divided by GDP [1 per million]', 'Head of government salary divided by GDP [1 per million]', 'Head of state salary divided by GDP per capita', 'Head of government salary divided by GDP per capita']\n"
     ]
    }
   ],
   "source": [
    "headings = []\n",
    "for item in head.find_all(\"th\"):\n",
    "    item = (item.text).rstrip(\"\\n\")\n",
    "    headings.append(item)\n",
    "print(headings)"
   ]
  },
  {
   "cell_type": "code",
   "execution_count": 14,
   "id": "signal-tomorrow",
   "metadata": {},
   "outputs": [],
   "source": [
    "states = []\n",
    "head_states = []\n",
    "head_states2 = []\n",
    "for row_item in body_rows:\n",
    "    state = row_item.find(\"th\").text\n",
    "    state = re.sub(\"(\\xa0)|(\\n)|,\", \"\",state)\n",
    "    states.append(state)\n",
    "    # head of the state\n",
    "    head_state = row_item.find(\"td\").text\n",
    "    head_state = re.sub(\"(\\xa0)|(\\n)|,\", \"\",head_state)\n",
    "    head_states.append(head_state)\n",
    "    # Posible prime minister\n",
    "    minister = row_item.find_all(\"td\")[1].text\n",
    "    minister = re.sub(\"(\\xa0)|(\\n)|,\", \"\", minister)\n",
    "    head_states2.append(minister)"
   ]
  },
  {
   "cell_type": "code",
   "execution_count": 15,
   "id": "latin-semiconductor",
   "metadata": {},
   "outputs": [
    {
     "data": {
      "text/plain": [
       "197"
      ]
     },
     "execution_count": 15,
     "metadata": {},
     "output_type": "execute_result"
    }
   ],
   "source": [
    "len(body_rows)"
   ]
  },
  {
   "cell_type": "code",
   "execution_count": 16,
   "id": "united-portsmouth",
   "metadata": {},
   "outputs": [],
   "source": [
    "df = pd.DataFrame(data = {\"Country\":states,\n",
    "                         \"Head\": head_states,\n",
    "                         \"Ministers\": head_states2})"
   ]
  },
  {
   "cell_type": "code",
   "execution_count": 17,
   "id": "referenced-folks",
   "metadata": {},
   "outputs": [
    {
     "data": {
      "text/html": [
       "<div>\n",
       "<style scoped>\n",
       "    .dataframe tbody tr th:only-of-type {\n",
       "        vertical-align: middle;\n",
       "    }\n",
       "\n",
       "    .dataframe tbody tr th {\n",
       "        vertical-align: top;\n",
       "    }\n",
       "\n",
       "    .dataframe thead th {\n",
       "        text-align: right;\n",
       "    }\n",
       "</style>\n",
       "<table border=\"1\" class=\"dataframe\">\n",
       "  <thead>\n",
       "    <tr style=\"text-align: right;\">\n",
       "      <th></th>\n",
       "      <th>Country</th>\n",
       "      <th>Head</th>\n",
       "      <th>Ministers</th>\n",
       "    </tr>\n",
       "  </thead>\n",
       "  <tbody>\n",
       "    <tr>\n",
       "      <th>0</th>\n",
       "      <td>Afghanistan</td>\n",
       "      <td>13400 USD (President)[3]</td>\n",
       "      <td>0.6415</td>\n",
       "    </tr>\n",
       "    <tr>\n",
       "      <th>1</th>\n",
       "      <td>Albania</td>\n",
       "      <td>19665 USD (President)[4]</td>\n",
       "      <td>20400 USD (Prime Minister)[5]</td>\n",
       "    </tr>\n",
       "    <tr>\n",
       "      <th>2</th>\n",
       "      <td>Algeria</td>\n",
       "      <td>168000 USD (President)[6][7]</td>\n",
       "      <td>61100 USD (Prime Minister)[8]</td>\n",
       "    </tr>\n",
       "    <tr>\n",
       "      <th>3</th>\n",
       "      <td>Andorra</td>\n",
       "      <td>Co-Princes of Andorra</td>\n",
       "      <td>82800 USD (Prime Minister)[9]</td>\n",
       "    </tr>\n",
       "    <tr>\n",
       "      <th>4</th>\n",
       "      <td>Angola</td>\n",
       "      <td>74480 USD (President)[10]</td>\n",
       "      <td>61330 USD (Vice President)[10]</td>\n",
       "    </tr>\n",
       "  </tbody>\n",
       "</table>\n",
       "</div>"
      ],
      "text/plain": [
       "       Country                          Head                       Ministers\n",
       "0  Afghanistan      13400 USD (President)[3]                          0.6415\n",
       "1      Albania      19665 USD (President)[4]   20400 USD (Prime Minister)[5]\n",
       "2      Algeria  168000 USD (President)[6][7]   61100 USD (Prime Minister)[8]\n",
       "3      Andorra         Co-Princes of Andorra   82800 USD (Prime Minister)[9]\n",
       "4       Angola     74480 USD (President)[10]  61330 USD (Vice President)[10]"
      ]
     },
     "execution_count": 17,
     "metadata": {},
     "output_type": "execute_result"
    }
   ],
   "source": [
    "df.head()"
   ]
  },
  {
   "cell_type": "code",
   "execution_count": 18,
   "id": "impaired-mauritius",
   "metadata": {},
   "outputs": [
    {
     "data": {
      "text/plain": [
       "(197, 3)"
      ]
     },
     "execution_count": 18,
     "metadata": {},
     "output_type": "execute_result"
    }
   ],
   "source": [
    "df.shape"
   ]
  },
  {
   "cell_type": "code",
   "execution_count": 19,
   "id": "collective-bennett",
   "metadata": {},
   "outputs": [],
   "source": [
    "df.to_csv(\"Presidents_Ministers_incomes.csv\", index = False)"
   ]
  },
  {
   "cell_type": "code",
   "execution_count": null,
   "id": "allied-enclosure",
   "metadata": {},
   "outputs": [],
   "source": []
  }
 ],
 "metadata": {
  "kernelspec": {
   "display_name": "Python 3",
   "language": "python",
   "name": "python3"
  },
  "language_info": {
   "codemirror_mode": {
    "name": "ipython",
    "version": 3
   },
   "file_extension": ".py",
   "mimetype": "text/x-python",
   "name": "python",
   "nbconvert_exporter": "python",
   "pygments_lexer": "ipython3",
   "version": "3.7.6"
  }
 },
 "nbformat": 4,
 "nbformat_minor": 5
}
